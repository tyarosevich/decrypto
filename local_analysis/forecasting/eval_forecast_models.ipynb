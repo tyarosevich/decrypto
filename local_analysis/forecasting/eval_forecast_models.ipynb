{
 "cells": [
  {
   "cell_type": "code",
   "execution_count": 1,
   "id": "4481be85645116dd",
   "metadata": {
    "ExecuteTime": {
     "end_time": "2024-04-11T23:26:43.791567Z",
     "start_time": "2024-04-11T23:26:43.654305Z"
    }
   },
   "outputs": [],
   "source": [
    "import numpy as np\n",
    "from pathlib import Path\n",
    "import pandas as pd\n",
    "\n",
    "data_folder = Path('./../../data/')"
   ]
  },
  {
   "cell_type": "markdown",
   "id": "b57843d8",
   "metadata": {},
   "source": [
    "Load crypto and stock market data."
   ]
  },
  {
   "cell_type": "code",
   "execution_count": 9,
   "id": "111e4a80",
   "metadata": {},
   "outputs": [
    {
     "name": "stdout",
     "output_type": "stream",
     "text": [
      "dict_keys(['BTC', 'ETH', 'SOL', 'LINK', 'USDC'])\n",
      "Index(['unix', 'date', 'symbol', 'open', 'high', 'low', 'close', 'volto',\n",
      "       'volfrom', 'close_ETH', 'close_SOL', 'close_LINK', 'close_USDC',\n",
      "       'open_SP500', 'high_SP500', 'low_SP500', 'close_SP500', 'volume_SP500',\n",
      "       'open_NSDQ_x', 'high_NSDQ_x', 'low_NSDQ_x', 'close_NSDQ_x',\n",
      "       'volume_NSDQ_x', 'open_NSDQ_y', 'high_NSDQ_y', 'low_NSDQ_y',\n",
      "       'close_NSDQ_y', 'volume_NSDQ_y'],\n",
      "      dtype='object')\n"
     ]
    }
   ],
   "source": [
    "coin_names = ['BTC', 'ETH', 'SOL', 'LINK', 'USDC']\n",
    "dct_coin_tables = {}\n",
    "for suffix in coin_names:\n",
    "    dct_coin_tables[suffix] = pd.read_csv(Path(data_folder / 'coin_index_vals_merged_{}.csv'.format(suffix)), parse_dates=['date'])\n",
    "\n",
    "print(dct_coin_tables.keys())\n",
    "\n",
    "df_bitcoin = dct_coin_tables['BTC'] # A view to a table for inspection because VScode Jupyter dict inspection is a catastrophe.\n",
    "print(df_bitcoin.columns)"
   ]
  },
  {
   "cell_type": "markdown",
   "id": "52aa8c81eff38277",
   "metadata": {},
   "source": [
    "Load tweet data (all tweets, sentiment values, and tokens)."
   ]
  },
  {
   "cell_type": "code",
   "execution_count": 3,
   "id": "6555843f3e83abb5",
   "metadata": {
    "ExecuteTime": {
     "end_time": "2024-04-11T23:26:46.592971Z",
     "start_time": "2024-04-11T23:26:46.234171Z"
    }
   },
   "outputs": [
    {
     "name": "stdout",
     "output_type": "stream",
     "text": [
      "Sentiment shape: (5261255,) \n",
      "Token Shape: (5261255, 64) \n",
      "Tweet Shape: (5261255, 8)\n"
     ]
    }
   ],
   "source": [
    "sent_file = data_folder / 'sentiment_historical.pkl'\n",
    "token_file = data_folder / 'tokens_historical.pkl'\n",
    "tweet_path_thresh_retweet = data_folder / 'tweets_filt_retweet_thresh.csv'\n",
    "\n",
    "# Tweets need to be sorted appropriately, as I forgot to do it in the original processing. \n",
    "# TODO: Reprocess as sorted, I don't like it.\n",
    "df_tweets = pd.read_csv(tweet_path_thresh_retweet, parse_dates=['date'])\n",
    "df_tweets.reset_index(drop=True, inplace=True)\n",
    "\n",
    "vec_sent = pd.read_pickle(sent_file)\n",
    "mat_token = pd.read_pickle(token_file)\n",
    "\n",
    "print(\"Sentiment shape: {} \\nToken Shape: {} \\nTweet Shape: {}\".format(vec_sent.shape, mat_token.shape, df_tweets.shape))\n",
    "assert(vec_sent.shape[0] == mat_token.shape[0])\n",
    "assert(df_tweets.shape[0] == vec_sent.shape[0])\n",
    "\n",
    "df_tweets['sentiment'] = vec_sent\n",
    "df_tweets['tokens'] = mat_token.tolist()\n",
    "\n",
    "df_tweets.sort_values(by='date', inplace=True)\n",
    "df_tweets.reset_index(drop=True, inplace=True)\n",
    "\n",
    "del vec_sent, mat_token"
   ]
  },
  {
   "cell_type": "code",
   "execution_count": 10,
   "id": "d32838322d817bee",
   "metadata": {
    "ExecuteTime": {
     "end_time": "2024-04-11T23:24:53.259547Z",
     "start_time": "2024-04-11T23:24:53.257611Z"
    }
   },
   "outputs": [
    {
     "name": "stdout",
     "output_type": "stream",
     "text": [
      "24071\n"
     ]
    }
   ],
   "source": [
    "assert(df_bitcoin['date'].dtype == df_tweets['date'].dtype)\n",
    "date_start = df_tweets['date'].min()\n",
    "date_end = df_tweets['date'].max()\n",
    "mask_dates = (df_bitcoin['date'] >= date_start) & (df_bitcoin['date'] <= date_end)\n",
    "mask_dates = np.where(mask_dates.to_numpy())[0]\n",
    "print(len(mask_dates))\n",
    "df_bitcoin = df_bitcoin.iloc[mask_dates, :]"
   ]
  },
  {
   "cell_type": "code",
   "execution_count": null,
   "id": "327bb116af65cd84",
   "metadata": {},
   "outputs": [],
   "source": []
  }
 ],
 "metadata": {
  "kernelspec": {
   "display_name": "Python 3",
   "language": "python",
   "name": "python3"
  },
  "language_info": {
   "codemirror_mode": {
    "name": "ipython",
    "version": 3
   },
   "file_extension": ".py",
   "mimetype": "text/x-python",
   "name": "python",
   "nbconvert_exporter": "python",
   "pygments_lexer": "ipython3",
   "version": "3.10.12"
  }
 },
 "nbformat": 4,
 "nbformat_minor": 5
}
