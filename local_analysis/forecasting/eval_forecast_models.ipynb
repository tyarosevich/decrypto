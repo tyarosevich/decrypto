{
 "cells": [
  {
   "metadata": {
    "ExecuteTime": {
     "end_time": "2024-04-11T23:26:43.791567Z",
     "start_time": "2024-04-11T23:26:43.654305Z"
    }
   },
   "cell_type": "code",
   "source": [
    "import numpy as np\n",
    "from pathlib import Path\n",
    "import pandas as pd"
   ],
   "id": "4481be85645116dd",
   "outputs": [],
   "execution_count": 1
  },
  {
   "metadata": {},
   "cell_type": "markdown",
   "source": "Load formatted data",
   "id": "52aa8c81eff38277"
  },
  {
   "metadata": {
    "ExecuteTime": {
     "end_time": "2024-04-11T23:26:46.592971Z",
     "start_time": "2024-04-11T23:26:46.234171Z"
    }
   },
   "cell_type": "code",
   "source": [
    "sent_file = Path('../../data/sentiment_historical.pkl')\n",
    "token_file = Path('../../data/tokens_historical.pkl')\n",
    "df_sent = pd.read_pickle(sent_file)\n",
    "df_token = pd.read_pickle(token_file)"
   ],
   "id": "6555843f3e83abb5",
   "outputs": [],
   "execution_count": 2
  },
  {
   "metadata": {
    "ExecuteTime": {
     "end_time": "2024-04-11T23:24:53.259547Z",
     "start_time": "2024-04-11T23:24:53.257611Z"
    }
   },
   "cell_type": "code",
   "source": "print(df_sent.shape, df_token.shape)",
   "id": "d32838322d817bee",
   "outputs": [
    {
     "name": "stdout",
     "output_type": "stream",
     "text": [
      "(2615272,) (2615272, 64)\n"
     ]
    }
   ],
   "execution_count": 3
  },
  {
   "metadata": {},
   "cell_type": "code",
   "outputs": [],
   "execution_count": null,
   "source": "",
   "id": "327bb116af65cd84"
  }
 ],
 "metadata": {
  "kernelspec": {
   "display_name": "Python 3",
   "language": "python",
   "name": "python3"
  },
  "language_info": {
   "codemirror_mode": {
    "name": "ipython",
    "version": 2
   },
   "file_extension": ".py",
   "mimetype": "text/x-python",
   "name": "python",
   "nbconvert_exporter": "python",
   "pygments_lexer": "ipython2",
   "version": "2.7.6"
  }
 },
 "nbformat": 4,
 "nbformat_minor": 5
}
